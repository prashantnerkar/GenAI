{
 "cells": [
  {
   "cell_type": "code",
   "execution_count": 7,
   "metadata": {},
   "outputs": [
    {
     "ename": "ModuleNotFoundError",
     "evalue": "No module named 'transformers'",
     "output_type": "error",
     "traceback": [
      "\u001b[0;31m---------------------------------------------------------------------------\u001b[0m",
      "\u001b[0;31mModuleNotFoundError\u001b[0m                       Traceback (most recent call last)",
      "Cell \u001b[0;32mIn[7], line 4\u001b[0m\n\u001b[1;32m      1\u001b[0m \u001b[38;5;66;03m#pip3 install langchain transformers torch\u001b[39;00m\n\u001b[1;32m      2\u001b[0m \n\u001b[1;32m      3\u001b[0m \u001b[38;5;66;03m#import torch\u001b[39;00m\n\u001b[0;32m----> 4\u001b[0m \u001b[38;5;28;01mfrom\u001b[39;00m \u001b[38;5;21;01mtransformers\u001b[39;00m \u001b[38;5;28;01mimport\u001b[39;00m pipeline, DistilBertTokenizer, DistilBertForSequenceClassification\n\u001b[1;32m      5\u001b[0m \u001b[38;5;28;01mfrom\u001b[39;00m \u001b[38;5;21;01mlangchain\u001b[39;00m\u001b[38;5;21;01m.\u001b[39;00m\u001b[38;5;21;01mllms\u001b[39;00m \u001b[38;5;28;01mimport\u001b[39;00m HuggingFacePipeline\n\u001b[1;32m      6\u001b[0m \u001b[38;5;28;01mfrom\u001b[39;00m \u001b[38;5;21;01mlangchain\u001b[39;00m\u001b[38;5;21;01m.\u001b[39;00m\u001b[38;5;21;01mprompts\u001b[39;00m \u001b[38;5;28;01mimport\u001b[39;00m PromptTemplate\n",
      "\u001b[0;31mModuleNotFoundError\u001b[0m: No module named 'transformers'"
     ]
    }
   ],
   "source": [
    "#pip3 install langchain transformers torch\n",
    "\n",
    "#import torch\n",
    "from transformers import pipeline, DistilBertTokenizer, DistilBertForSequenceClassification\n",
    "from langchain.llms import HuggingFacePipeline\n",
    "from langchain.prompts import PromptTemplate\n",
    "from langchain.chains import LLMChain\n",
    "\n",
    "# Step 1: Download and load the DistilBERT model on your MacBook Pro\n",
    "model_name = 'distilbert-base-uncased'\n",
    "tokenizer = DistilBertTokenizer.from_pretrained(model_name)\n",
    "model = DistilBertForSequenceClassification.from_pretrained(model_name)\n",
    "\n",
    "# Step 2: Set up the HuggingFace sentiment analysis pipeline using DistilBERT\n",
    "sentiment_analyzer = pipeline('sentiment-analysis', model=model, tokenizer=tokenizer)\n",
    "\n",
    "# Step 3: Wrap the HuggingFace pipeline using LangChain's HuggingFacePipeline\n",
    "huggingface_llm = HuggingFacePipeline(pipeline=sentiment_analyzer)\n",
    "\n",
    "# Step 4: Create a simple LangChain prompt template\n",
    "prompt = PromptTemplate(input_variables=[\"text\"], template=\"Analyze the sentiment of the following text: {text}\")\n",
    "\n",
    "# Step 5: Use LangChain's LLMChain to combine the prompt and LLM\n",
    "llm_chain = LLMChain(llm=huggingface_llm, prompt=prompt)\n",
    "\n",
    "# Example text for sentiment analysis\n",
    "text = \"I love using this new laptop! It's fast and smooth.\"\n",
    "\n",
    "# Step 6: Run the chain to get the sentiment analysis result\n",
    "result = llm_chain.run(text)\n",
    "\n",
    "# Step 7: Display the result\n",
    "print(result)\n"
   ]
  },
  {
   "cell_type": "markdown",
   "metadata": {},
   "source": [
    "pip install langchain transformers torch\n",
    "\n",
    "import torch\n",
    "from transformers import pipeline, DistilBertTokenizer, DistilBertForSequenceClassification\n",
    "from langchain.llms import HuggingFacePipeline\n",
    "from langchain.prompts import PromptTemplate\n",
    "from langchain.chains import LLMChain\n",
    "\n",
    "# Step 1: Download and load the DistilBERT model on your MacBook Pro\n",
    "model_name = 'distilbert-base-uncased'\n",
    "tokenizer = DistilBertTokenizer.from_pretrained(model_name)\n",
    "model = DistilBertForSequenceClassification.from_pretrained(model_name)\n",
    "\n",
    "# Step 2: Set up the HuggingFace sentiment analysis pipeline using DistilBERT\n",
    "sentiment_analyzer = pipeline('sentiment-analysis', model=model, tokenizer=tokenizer)\n",
    "\n",
    "# Step 3: Wrap the HuggingFace pipeline using LangChain's HuggingFacePipeline\n",
    "huggingface_llm = HuggingFacePipeline(pipeline=sentiment_analyzer)\n",
    "\n",
    "# Step 4: Create a simple LangChain prompt template\n",
    "prompt = PromptTemplate(input_variables=[\"text\"], template=\"Analyze the sentiment of the following text: {text}\")\n",
    "\n",
    "# Step 5: Use LangChain's LLMChain to combine the prompt and LLM\n",
    "llm_chain = LLMChain(llm=huggingface_llm, prompt=prompt)\n",
    "\n",
    "# Example text for sentiment analysis\n",
    "text = \"I love using this new laptop! It's fast and smooth.\"\n",
    "\n",
    "# Step 6: Run the chain to get the sentiment analysis result\n",
    "result = llm_chain.run(text)\n",
    "\n",
    "# Step 7: Display the result\n",
    "print(result)\n",
    "\n"
   ]
  }
 ],
 "metadata": {
  "kernelspec": {
   "display_name": "Python 3",
   "language": "python",
   "name": "python3"
  },
  "language_info": {
   "codemirror_mode": {
    "name": "ipython",
    "version": 3
   },
   "file_extension": ".py",
   "mimetype": "text/x-python",
   "name": "python",
   "nbconvert_exporter": "python",
   "pygments_lexer": "ipython3",
   "version": "3.13.1"
  }
 },
 "nbformat": 4,
 "nbformat_minor": 2
}
