{
 "cells": [
  {
   "cell_type": "code",
   "execution_count": 4,
   "metadata": {},
   "outputs": [
    {
     "name": "stderr",
     "output_type": "stream",
     "text": [
      "Some weights of DistilBertForSequenceClassification were not initialized from the model checkpoint at distilbert-base-uncased and are newly initialized: ['classifier.bias', 'classifier.weight', 'pre_classifier.bias', 'pre_classifier.weight']\n",
      "You should probably TRAIN this model on a down-stream task to be able to use it for predictions and inference.\n"
     ]
    },
    {
     "name": "stdout",
     "output_type": "stream",
     "text": [
      "Review: The interest rates on my credit card are way too high. I am thinking of switching companies.\n",
      "Sentiment: Positive\n",
      "\n",
      "Review: I love the rewards points I earn with my credit card! It makes shopping more rewarding.\n",
      "Sentiment: Positive\n",
      "\n",
      "Review: Customer service was very helpful in resolving my payment issues. Great experience overall.\n",
      "Sentiment: Negative\n",
      "\n",
      "Review: The late payment fees are ridiculous! I was charged even though I made the payment on time.\n",
      "Sentiment: Positive\n",
      "\n",
      "Review: I don't mind the annual fee because the benefits outweigh it. I'm satisfied with my card.\n",
      "Sentiment: Positive\n",
      "\n"
     ]
    }
   ],
   "source": [
    "# pip install transformers torch\n",
    "import torch\n",
    "from transformers import DistilBertTokenizer, DistilBertForSequenceClassification\n",
    "\n",
    "# Load pre-trained model and tokenizer\n",
    "model_name = \"distilbert-base-uncased\"\n",
    "tokenizer = DistilBertTokenizer.from_pretrained(model_name)\n",
    "model = DistilBertForSequenceClassification.from_pretrained(model_name, num_labels=2)\n",
    "\n",
    "# Function to perform sentiment analysis\n",
    "def analyze_sentiment(review):\n",
    "    inputs = tokenizer(review, return_tensors=\"pt\", truncation=True, padding=True, max_length=512)\n",
    "    outputs = model(**inputs)\n",
    "    logits = outputs.logits\n",
    "    sentiment = torch.argmax(logits, dim=1).item()\n",
    "    return \"Positive\" if sentiment == 1 else \"Negative\"\n",
    "\n",
    "# Example customer reviews related to credit card services\n",
    "credit_card_reviews = [\n",
    "    \"The interest rates on my credit card are way too high. I am thinking of switching companies.\",\n",
    "    \"I love the rewards points I earn with my credit card! It makes shopping more rewarding.\",\n",
    "    \"Customer service was very helpful in resolving my payment issues. Great experience overall.\",\n",
    "    \"The late payment fees are ridiculous! I was charged even though I made the payment on time.\",\n",
    "    \"I don't mind the annual fee because the benefits outweigh it. I'm satisfied with my card.\"\n",
    "]\n",
    "\n",
    "# Perform sentiment analysis on the credit card reviews\n",
    "for review in credit_card_reviews:\n",
    "    sentiment = analyze_sentiment(review)\n",
    "    print(f\"Review: {review}\")\n",
    "    print(f\"Sentiment: {sentiment}\\n\")"
   ]
  }
 ],
 "metadata": {
  "kernelspec": {
   "display_name": "Python 3",
   "language": "python",
   "name": "python3"
  },
  "language_info": {
   "codemirror_mode": {
    "name": "ipython",
    "version": 3
   },
   "file_extension": ".py",
   "mimetype": "text/x-python",
   "name": "python",
   "nbconvert_exporter": "python",
   "pygments_lexer": "ipython3",
   "version": "3.13.1"
  }
 },
 "nbformat": 4,
 "nbformat_minor": 2
}
