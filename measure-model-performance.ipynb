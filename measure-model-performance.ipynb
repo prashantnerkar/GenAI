{
 "cells": [
  {
   "cell_type": "markdown",
   "metadata": {},
   "source": [
    "# Measure model performance \n",
    "import time\n",
    "from transformers import AutoTokenizer, AutoModelForCausalLM\n",
    "\n",
    "# Load the model and tokenizer\n",
    "model_name = \"distilgpt2\"  # Replace with your small language model\n",
    "tokenizer = AutoTokenizer.from_pretrained(model_name)\n",
    "model = AutoModelForCausalLM.from_pretrained(model_name)\n",
    "\n",
    "# Define input text\n",
    "input_text = \"Once upon a time, in a small village,\"\n",
    "\n",
    "# Tokenize input\n",
    "inputs = tokenizer(input_text, return_tensors=\"pt\")\n",
    "\n",
    "# Measure latency\n",
    "num_trials = 10\n",
    "latencies = []\n",
    "for _ in range(num_trials):\n",
    "    start_time = time.time()\n",
    "    outputs = model.generate(**inputs, max_length=50)  # Generate text\n",
    "    latencies.append(time.time() - start_time)\n",
    "\n",
    "average_latency = sum(latencies) / num_trials\n",
    "print(f\"Average Latency: {average_latency:.4f} seconds\")\n",
    "\n",
    "# Measure throughput (tokens per second)\n",
    "total_tokens = 0\n",
    "start_time = time.time()\n",
    "for _ in range(num_trials):\n",
    "    outputs = model.generate(**inputs, max_length=50)\n",
    "    total_tokens += outputs.size(-1)  # Count tokens in output\n",
    "\n",
    "end_time = time.time()\n",
    "throughput = total_tokens / (end_time - start_time)\n",
    "print(f\"Throughput: {throughput:.2f} tokens/second\")\n",
    "\n",
    "# Output generated text for verification\n",
    "generated_text = tokenizer.decode(outputs[0], skip_special_tokens=True)\n",
    "print(f\"Generated Text: {generated_text}\")\n"
   ]
  },
  {
   "cell_type": "code",
   "execution_count": null,
   "metadata": {},
   "outputs": [],
   "source": []
  }
 ],
 "metadata": {
  "kernelspec": {
   "display_name": "Python 3",
   "language": "python",
   "name": "python3"
  },
  "language_info": {
   "name": "python",
   "version": "3.13.1"
  }
 },
 "nbformat": 4,
 "nbformat_minor": 2
}
