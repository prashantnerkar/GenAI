{
 "cells": [
  {
   "cell_type": "code",
   "execution_count": null,
   "id": "642c4c3c-9ed7-4583-ae06-5453b5153efa",
   "metadata": {},
   "outputs": [],
   "source": [
    "# Prompt based chat with Ollama model\n",
    "from langchain_core.prompts import ChatPromptTemplate\n",
    "from langchain_ollama.llms import OllamaLLM\n",
    "from IPython.display import Markdown\n",
    "\n",
    "model = OllamaLLM(temperature=0.5, model=\"llama3.2\")\n",
    "template = \"\"\"Question: {question}\n",
    "Answer: Let's think step by step.\"\"\"\n",
    "prompt = ChatPromptTemplate.from_template(template)\n",
    "#model = OllamaLLM(model=\"llama3.2\")\n",
    "chain = prompt | model\n",
    "display(Markdown(chain.invoke({\"question\": \"What's the length of hypotenuse in a right angled triangle\"})))"
   ]
  }
 ],
 "metadata": {
  "kernelspec": {
   "display_name": "Python 3",
   "language": "python",
   "name": "python3"
  },
  "language_info": {
   "codemirror_mode": {
    "name": "ipython",
    "version": 3
   },
   "file_extension": ".py",
   "mimetype": "text/x-python",
   "name": "python",
   "nbconvert_exporter": "python",
   "pygments_lexer": "ipython3",
   "version": "3.13.1"
  }
 },
 "nbformat": 4,
 "nbformat_minor": 5
}
