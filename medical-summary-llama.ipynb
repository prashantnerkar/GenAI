{
 "cells": [
  {
   "cell_type": "code",
   "execution_count": 3,
   "metadata": {},
   "outputs": [
    {
     "name": "stdout",
     "output_type": "stream",
     "text": [
      "Medical Document Summary:\n",
      "Here's a simplified explanation of the patient's medical history:\n",
      "\n",
      "A 56-year-old man has been having chest pain and trouble breathing when he exercises. He also has high blood pressure, diabetes, and high cholesterol. The doctor thinks his heart is not getting enough blood because of blocked or narrow arteries, which can cause stable angina.\n",
      "\n",
      "The doctor will help him with medication to reduce the strain on his heart and make lifestyle changes such as eating a healthier diet and exercising safely.\n"
     ]
    }
   ],
   "source": [
    "# Generate a summary of a medical document using LLaMA 3.2 model\n",
    "from langchain_ollama.llms import OllamaLLM\n",
    "from langchain.chains import LLMChain\n",
    "from langchain.prompts import PromptTemplate\n",
    "\n",
    "# Initialize the LLaMA 3.2 model\n",
    "llm = OllamaLLM(model=\"llama3.2\")\n",
    "\n",
    "# Define prompt template for summarization\n",
    "prompt = PromptTemplate(\n",
    "    input_variables=[\"document\"],\n",
    "    template=\"Summarize the following medical documentation:\\n{document}\\nProvide a brief and concise summary.\"\n",
    ")\n",
    "\n",
    "# Create LLM chain for summarization\n",
    "summarization_chain = LLMChain(llm=llm, prompt=prompt)\n",
    "\n",
    "# Function to read the medical document\n",
    "def read_medical_document(file_path):\n",
    "    with open(file_path, 'r', encoding='utf-8') as file:\n",
    "        return file.read()\n",
    "\n",
    "# Function to summarize the document\n",
    "def summarize_medical_document(file_path):\n",
    "    # Read document\n",
    "    document = read_medical_document(file_path)\n",
    "    \n",
    "    # Generate summary\n",
    "    summary = summarization_chain.run(document)\n",
    "    return summary\n",
    "\n",
    "# Example usage\n",
    "if __name__ == \"__main__\":\n",
    "    file_path = \"medical_document.txt\"  # Replace with your document path\n",
    "    summary = summarize_medical_document(file_path)\n",
    "    print(\"Medical Document Summary:\")\n",
    "    print(summary)\n",
    "\n",
    "\n",
    "\n",
    "\n",
    "\n",
    "\n",
    "\n",
    "\n"
   ]
  },
  {
   "cell_type": "code",
   "execution_count": null,
   "metadata": {},
   "outputs": [],
   "source": []
  },
  {
   "cell_type": "markdown",
   "metadata": {},
   "source": []
  }
 ],
 "metadata": {
  "kernelspec": {
   "display_name": "Python 3",
   "language": "python",
   "name": "python3"
  },
  "language_info": {
   "codemirror_mode": {
    "name": "ipython",
    "version": 3
   },
   "file_extension": ".py",
   "mimetype": "text/x-python",
   "name": "python",
   "nbconvert_exporter": "python",
   "pygments_lexer": "ipython3",
   "version": "3.13.1"
  }
 },
 "nbformat": 4,
 "nbformat_minor": 2
}
