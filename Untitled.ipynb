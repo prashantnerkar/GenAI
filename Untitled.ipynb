{
 "cells": [
  {
   "cell_type": "code",
   "execution_count": 10,
   "id": "642c4c3c-9ed7-4583-ae06-5453b5153efa",
   "metadata": {},
   "outputs": [
    {
     "data": {
      "text/markdown": [
       "To find the length of the hypotenuse (the side opposite the right angle) in a right-angled triangle, we can use the Pythagorean theorem.\n",
       "\n",
       "The Pythagorean theorem states that:\n",
       "\n",
       "a² + b² = c²\n",
       "\n",
       "where:\n",
       "a is the length of one leg (one of the sides that forms the right angle)\n",
       "b is the length of the other leg\n",
       "c is the length of the hypotenuse (the side opposite the right angle)\n",
       "\n",
       "To find the length of the hypotenuse, we can rearrange the equation to get:\n",
       "\n",
       "c² = a² + b²\n",
       "\n",
       "Taking the square root of both sides gives us:\n",
       "\n",
       "c = √(a² + b²)\n",
       "\n",
       "So, the length of the hypotenuse is equal to the square root of the sum of the squares of the other two sides.\n",
       "\n",
       "Does that make sense?"
      ],
      "text/plain": [
       "<IPython.core.display.Markdown object>"
      ]
     },
     "metadata": {},
     "output_type": "display_data"
    }
   ],
   "source": [
    "\n",
    "from langchain_core.prompts import ChatPromptTemplate\n",
    "from langchain_ollama.llms import OllamaLLM\n",
    "from IPython.display import Markdown\n",
    "\n",
    "#model = OllamaLLM(temperature=0.5, model=\"llama3.2\")\n",
    "template = \"\"\"Question: {question}\n",
    "Answer: Let's think step by step.\"\"\"\n",
    "prompt = ChatPromptTemplate.from_template(template)\n",
    "model = OllamaLLM(model=\"llama3.2\")\n",
    "chain = prompt | model\n",
    "display(Markdown(chain.invoke({\"question\": \"What's the length of hypotenuse in a right angled triangle\"})))"
   ]
  },
  {
   "cell_type": "code",
   "execution_count": null,
   "id": "beaa7a59-233e-4dae-bc60-7d211c6643a5",
   "metadata": {},
   "outputs": [],
   "source": []
  }
 ],
 "metadata": {
  "kernelspec": {
   "display_name": "Python 3",
   "language": "python",
   "name": "python3"
  },
  "language_info": {
   "codemirror_mode": {
    "name": "ipython",
    "version": 3
   },
   "file_extension": ".py",
   "mimetype": "text/x-python",
   "name": "python",
   "nbconvert_exporter": "python",
   "pygments_lexer": "ipython3",
   "version": "3.13.1"
  }
 },
 "nbformat": 4,
 "nbformat_minor": 5
}
