{
 "cells": [
  {
   "cell_type": "code",
   "execution_count": 9,
   "metadata": {},
   "outputs": [
    {
     "name": "stdout",
     "output_type": "stream",
     "text": [
      "Medical Document Summary:\n",
      "Here's an explanation of the medical history in simpler English:\n",
      "\n",
      "A 56-year-old man has several long-term health problems: high blood pressure, diabetes, and high cholesterol. He recently started experiencing chest pain and shortness of breath when he exercises or is active. The doctor thinks this might be related to his heart not getting enough oxygen because of blocked blood vessels.\n",
      "\n",
      "To help him feel better, the doctor will start giving him medicine to reduce stress on his heart (beta-blockers), increase his cholesterol-lowering medication, and encourage him to eat a healthier diet and exercise safely.\n"
     ]
    }
   ],
   "source": [
    "# Generate a summary of a medical document using LLaMA 3.2 model\n",
    "from langchain_ollama.llms import OllamaLLM\n",
    "from langchain.chains import LLMChain\n",
    "from langchain.prompts import PromptTemplate\n",
    "\n",
    "# Initialize the LLaMA 3.2 model\n",
    "llm = OllamaLLM(model=\"llama3.2\")\n",
    "\n",
    "# Define prompt template for summarization\n",
    "prompt = PromptTemplate(\n",
    "    input_variables=[\"document\"],\n",
    "    template=\"Summarize the following medical documentation:\\n{document}\\nProvide a brief and concise summary.\"\n",
    ")\n",
    "\n",
    "# Create LLM chain for summarization\n",
    "summarization_chain = LLMChain(llm=llm, prompt=prompt)\n",
    "\n",
    "# Function to read the medical document\n",
    "def read_medical_document(file_path):\n",
    "    with open(file_path, 'r', encoding='utf-8') as file:\n",
    "        return file.read()\n",
    "\n",
    "# Function to summarize the document\n",
    "def summarize_medical_document(file_path):\n",
    "    # Read document\n",
    "    document = read_medical_document(file_path)\n",
    "    \n",
    "    # Generate summary\n",
    "    summary = summarization_chain.run(document)\n",
    "    return summary\n",
    "\n",
    "# Example usage\n",
    "if __name__ == \"__main__\":\n",
    "    file_path = \"/Users/prashantnerkar/Downloads/medical_document.txt\"  # Replace with your document path\n",
    "    summary = summarize_medical_document(file_path)\n",
    "    print(\"Medical Document Summary:\")\n",
    "    print(summary)\n"
   ]
  },
  {
   "cell_type": "markdown",
   "metadata": {},
   "source": []
  }
 ],
 "metadata": {
  "kernelspec": {
   "display_name": "Python 3",
   "language": "python",
   "name": "python3"
  },
  "language_info": {
   "codemirror_mode": {
    "name": "ipython",
    "version": 3
   },
   "file_extension": ".py",
   "mimetype": "text/x-python",
   "name": "python",
   "nbconvert_exporter": "python",
   "pygments_lexer": "ipython3",
   "version": "3.13.1"
  }
 },
 "nbformat": 4,
 "nbformat_minor": 2
}
