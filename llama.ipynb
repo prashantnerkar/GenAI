{
 "cells": [
  {
   "cell_type": "code",
   "execution_count": 1,
   "metadata": {},
   "outputs": [
    {
     "name": "stdout",
     "output_type": "stream",
     "text": [
      "The book \"The Godfather\" was written by Mario Puzo, an American author of Italian descent. The novel was published in 1969 and became a huge bestseller.\n",
      "\n",
      "Puzo's story is loosely based on the true story of Vito Corleone, the founder of the Mafia family that ruled New York City during the early 20th century. The book follows the rise of Michael Corleone, the youngest son of Don Vito, as he becomes embroiled in the family business and struggles with his own moral compass.\n",
      "\n",
      "The novel was a huge commercial success, and its popularity helped pave the way for the iconic film adaptation directed by Francis Ford Coppola, which was released in 1972. The film went on to win several Academy Awards and became one of the most influential and beloved films of all time.\n",
      "\n",
      "Mario Puzo wrote six more novels featuring the Corleone family before his death in 1999.\n"
     ]
    }
   ],
   "source": [
    "import requests\n",
    "import json\n",
    "\n",
    "url = \"http://localhost:11434/api/chat\"\n",
    "\n",
    "def llama3(prompt):\n",
    "    data = {\n",
    "        \"model\": \"llama3\",\n",
    "        \"messages\": [\n",
    "            {\n",
    "                \"role\": \"user\",\n",
    "                \"content\": prompt\n",
    "            }\n",
    "        ],\n",
    "        \"stream\": False,\n",
    "    }\n",
    "\n",
    "    headers = {\n",
    "        \"Content-Type\": \"application/json\"\n",
    "    }\n",
    "\n",
    "    response = requests.post(url, headers=headers, json=data)\n",
    "    return response.json()[\"message\"][\"content\"]\n",
    "\n",
    "response = llama3(\"who wrote the book godfather\")\n",
    "print(response)"
   ]
  }
 ],
 "metadata": {
  "kernelspec": {
   "display_name": "Python 3",
   "language": "python",
   "name": "python3"
  },
  "language_info": {
   "codemirror_mode": {
    "name": "ipython",
    "version": 3
   },
   "file_extension": ".py",
   "mimetype": "text/x-python",
   "name": "python",
   "nbconvert_exporter": "python",
   "pygments_lexer": "ipython3",
   "version": "3.13.1"
  }
 },
 "nbformat": 4,
 "nbformat_minor": 2
}
